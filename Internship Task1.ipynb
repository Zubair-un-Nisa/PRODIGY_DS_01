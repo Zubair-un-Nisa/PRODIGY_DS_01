{
 "cells": [
  {
   "cell_type": "markdown",
   "id": "2d85926b",
   "metadata": {},
   "source": [
    "# Libraries import"
   ]
  },
  {
   "cell_type": "code",
   "execution_count": 1,
   "id": "92fc991d",
   "metadata": {},
   "outputs": [],
   "source": [
    "import matplotlib.pyplot as plt\n",
    "import numpy as np\n",
    "import pandas as pd\n",
    "import seaborn as sns"
   ]
  },
  {
   "cell_type": "markdown",
   "id": "835e0812",
   "metadata": {},
   "source": [
    "# Upload data set"
   ]
  },
  {
   "cell_type": "code",
   "execution_count": 2,
   "id": "fd1235e3",
   "metadata": {},
   "outputs": [],
   "source": [
    "data= pd.read_csv(\"ToyotaCorolla.csv\")"
   ]
  },
  {
   "cell_type": "code",
   "execution_count": 3,
   "id": "e5e6c8c1",
   "metadata": {},
   "outputs": [
    {
     "data": {
      "text/html": [
       "<div>\n",
       "<style scoped>\n",
       "    .dataframe tbody tr th:only-of-type {\n",
       "        vertical-align: middle;\n",
       "    }\n",
       "\n",
       "    .dataframe tbody tr th {\n",
       "        vertical-align: top;\n",
       "    }\n",
       "\n",
       "    .dataframe thead th {\n",
       "        text-align: right;\n",
       "    }\n",
       "</style>\n",
       "<table border=\"1\" class=\"dataframe\">\n",
       "  <thead>\n",
       "    <tr style=\"text-align: right;\">\n",
       "      <th></th>\n",
       "      <th>Id</th>\n",
       "      <th>Model</th>\n",
       "      <th>Price</th>\n",
       "      <th>Age_08_04</th>\n",
       "      <th>Mfg_Month</th>\n",
       "      <th>Mfg_Year</th>\n",
       "      <th>KM</th>\n",
       "      <th>Fuel_Type</th>\n",
       "      <th>HP</th>\n",
       "      <th>Met_Color</th>\n",
       "      <th>...</th>\n",
       "      <th>Central_Lock</th>\n",
       "      <th>Powered_Windows</th>\n",
       "      <th>Power_Steering</th>\n",
       "      <th>Radio</th>\n",
       "      <th>Mistlamps</th>\n",
       "      <th>Sport_Model</th>\n",
       "      <th>Backseat_Divider</th>\n",
       "      <th>Metallic_Rim</th>\n",
       "      <th>Radio_cassette</th>\n",
       "      <th>Tow_Bar</th>\n",
       "    </tr>\n",
       "  </thead>\n",
       "  <tbody>\n",
       "    <tr>\n",
       "      <th>0</th>\n",
       "      <td>1</td>\n",
       "      <td>TOYOTA Corolla 2.0 D4D HATCHB TERRA 2/3-Doors</td>\n",
       "      <td>13500</td>\n",
       "      <td>23</td>\n",
       "      <td>10</td>\n",
       "      <td>2002</td>\n",
       "      <td>46986</td>\n",
       "      <td>Diesel</td>\n",
       "      <td>90</td>\n",
       "      <td>1</td>\n",
       "      <td>...</td>\n",
       "      <td>1</td>\n",
       "      <td>1</td>\n",
       "      <td>1</td>\n",
       "      <td>0</td>\n",
       "      <td>0</td>\n",
       "      <td>0</td>\n",
       "      <td>1</td>\n",
       "      <td>0</td>\n",
       "      <td>0</td>\n",
       "      <td>0</td>\n",
       "    </tr>\n",
       "    <tr>\n",
       "      <th>1</th>\n",
       "      <td>2</td>\n",
       "      <td>TOYOTA Corolla 2.0 D4D HATCHB TERRA 2/3-Doors</td>\n",
       "      <td>13750</td>\n",
       "      <td>23</td>\n",
       "      <td>10</td>\n",
       "      <td>2002</td>\n",
       "      <td>72937</td>\n",
       "      <td>Diesel</td>\n",
       "      <td>90</td>\n",
       "      <td>1</td>\n",
       "      <td>...</td>\n",
       "      <td>1</td>\n",
       "      <td>0</td>\n",
       "      <td>1</td>\n",
       "      <td>0</td>\n",
       "      <td>0</td>\n",
       "      <td>0</td>\n",
       "      <td>1</td>\n",
       "      <td>0</td>\n",
       "      <td>0</td>\n",
       "      <td>0</td>\n",
       "    </tr>\n",
       "    <tr>\n",
       "      <th>2</th>\n",
       "      <td>3</td>\n",
       "      <td>?TOYOTA Corolla 2.0 D4D HATCHB TERRA 2/3-Doors</td>\n",
       "      <td>13950</td>\n",
       "      <td>24</td>\n",
       "      <td>9</td>\n",
       "      <td>2002</td>\n",
       "      <td>41711</td>\n",
       "      <td>Diesel</td>\n",
       "      <td>90</td>\n",
       "      <td>1</td>\n",
       "      <td>...</td>\n",
       "      <td>0</td>\n",
       "      <td>0</td>\n",
       "      <td>1</td>\n",
       "      <td>0</td>\n",
       "      <td>0</td>\n",
       "      <td>0</td>\n",
       "      <td>1</td>\n",
       "      <td>0</td>\n",
       "      <td>0</td>\n",
       "      <td>0</td>\n",
       "    </tr>\n",
       "    <tr>\n",
       "      <th>3</th>\n",
       "      <td>4</td>\n",
       "      <td>TOYOTA Corolla 2.0 D4D HATCHB TERRA 2/3-Doors</td>\n",
       "      <td>14950</td>\n",
       "      <td>26</td>\n",
       "      <td>7</td>\n",
       "      <td>2002</td>\n",
       "      <td>48000</td>\n",
       "      <td>Diesel</td>\n",
       "      <td>90</td>\n",
       "      <td>0</td>\n",
       "      <td>...</td>\n",
       "      <td>0</td>\n",
       "      <td>0</td>\n",
       "      <td>1</td>\n",
       "      <td>0</td>\n",
       "      <td>0</td>\n",
       "      <td>0</td>\n",
       "      <td>1</td>\n",
       "      <td>0</td>\n",
       "      <td>0</td>\n",
       "      <td>0</td>\n",
       "    </tr>\n",
       "    <tr>\n",
       "      <th>4</th>\n",
       "      <td>5</td>\n",
       "      <td>TOYOTA Corolla 2.0 D4D HATCHB SOL 2/3-Doors</td>\n",
       "      <td>13750</td>\n",
       "      <td>30</td>\n",
       "      <td>3</td>\n",
       "      <td>2002</td>\n",
       "      <td>38500</td>\n",
       "      <td>Diesel</td>\n",
       "      <td>90</td>\n",
       "      <td>0</td>\n",
       "      <td>...</td>\n",
       "      <td>1</td>\n",
       "      <td>1</td>\n",
       "      <td>1</td>\n",
       "      <td>0</td>\n",
       "      <td>1</td>\n",
       "      <td>0</td>\n",
       "      <td>1</td>\n",
       "      <td>0</td>\n",
       "      <td>0</td>\n",
       "      <td>0</td>\n",
       "    </tr>\n",
       "  </tbody>\n",
       "</table>\n",
       "<p>5 rows × 37 columns</p>\n",
       "</div>"
      ],
      "text/plain": [
       "   Id                                           Model  Price  Age_08_04  \\\n",
       "0   1   TOYOTA Corolla 2.0 D4D HATCHB TERRA 2/3-Doors  13500         23   \n",
       "1   2   TOYOTA Corolla 2.0 D4D HATCHB TERRA 2/3-Doors  13750         23   \n",
       "2   3  ?TOYOTA Corolla 2.0 D4D HATCHB TERRA 2/3-Doors  13950         24   \n",
       "3   4   TOYOTA Corolla 2.0 D4D HATCHB TERRA 2/3-Doors  14950         26   \n",
       "4   5     TOYOTA Corolla 2.0 D4D HATCHB SOL 2/3-Doors  13750         30   \n",
       "\n",
       "   Mfg_Month  Mfg_Year     KM Fuel_Type  HP  Met_Color  ...  Central_Lock  \\\n",
       "0         10      2002  46986    Diesel  90          1  ...             1   \n",
       "1         10      2002  72937    Diesel  90          1  ...             1   \n",
       "2          9      2002  41711    Diesel  90          1  ...             0   \n",
       "3          7      2002  48000    Diesel  90          0  ...             0   \n",
       "4          3      2002  38500    Diesel  90          0  ...             1   \n",
       "\n",
       "   Powered_Windows  Power_Steering  Radio  Mistlamps  Sport_Model  \\\n",
       "0                1               1      0          0            0   \n",
       "1                0               1      0          0            0   \n",
       "2                0               1      0          0            0   \n",
       "3                0               1      0          0            0   \n",
       "4                1               1      0          1            0   \n",
       "\n",
       "   Backseat_Divider  Metallic_Rim  Radio_cassette  Tow_Bar  \n",
       "0                 1             0               0        0  \n",
       "1                 1             0               0        0  \n",
       "2                 1             0               0        0  \n",
       "3                 1             0               0        0  \n",
       "4                 1             0               0        0  \n",
       "\n",
       "[5 rows x 37 columns]"
      ]
     },
     "execution_count": 3,
     "metadata": {},
     "output_type": "execute_result"
    }
   ],
   "source": [
    "data.head()"
   ]
  },
  {
   "cell_type": "markdown",
   "id": "1d456f7b",
   "metadata": {},
   "source": [
    "# About dataset detail"
   ]
  },
  {
   "cell_type": "code",
   "execution_count": 4,
   "id": "def3ff01",
   "metadata": {},
   "outputs": [
    {
     "name": "stdout",
     "output_type": "stream",
     "text": [
      "<class 'pandas.core.frame.DataFrame'>\n",
      "RangeIndex: 1436 entries, 0 to 1435\n",
      "Data columns (total 37 columns):\n",
      " #   Column            Non-Null Count  Dtype \n",
      "---  ------            --------------  ----- \n",
      " 0   Id                1436 non-null   int64 \n",
      " 1   Model             1436 non-null   object\n",
      " 2   Price             1436 non-null   int64 \n",
      " 3   Age_08_04         1436 non-null   int64 \n",
      " 4   Mfg_Month         1436 non-null   int64 \n",
      " 5   Mfg_Year          1436 non-null   int64 \n",
      " 6   KM                1436 non-null   int64 \n",
      " 7   Fuel_Type         1436 non-null   object\n",
      " 8   HP                1436 non-null   int64 \n",
      " 9   Met_Color         1436 non-null   int64 \n",
      " 10  Automatic         1436 non-null   int64 \n",
      " 11  cc                1436 non-null   int64 \n",
      " 12  Doors             1436 non-null   int64 \n",
      " 13  Cylinders         1436 non-null   int64 \n",
      " 14  Gears             1436 non-null   int64 \n",
      " 15  Quarterly_Tax     1436 non-null   int64 \n",
      " 16  Weight            1436 non-null   int64 \n",
      " 17  Mfr_Guarantee     1436 non-null   int64 \n",
      " 18  BOVAG_Guarantee   1436 non-null   int64 \n",
      " 19  Guarantee_Period  1436 non-null   int64 \n",
      " 20  ABS               1436 non-null   int64 \n",
      " 21  Airbag_1          1436 non-null   int64 \n",
      " 22  Airbag_2          1436 non-null   int64 \n",
      " 23  Airco             1436 non-null   int64 \n",
      " 24  Automatic_airco   1436 non-null   int64 \n",
      " 25  Boardcomputer     1436 non-null   int64 \n",
      " 26  CD_Player         1436 non-null   int64 \n",
      " 27  Central_Lock      1436 non-null   int64 \n",
      " 28  Powered_Windows   1436 non-null   int64 \n",
      " 29  Power_Steering    1436 non-null   int64 \n",
      " 30  Radio             1436 non-null   int64 \n",
      " 31  Mistlamps         1436 non-null   int64 \n",
      " 32  Sport_Model       1436 non-null   int64 \n",
      " 33  Backseat_Divider  1436 non-null   int64 \n",
      " 34  Metallic_Rim      1436 non-null   int64 \n",
      " 35  Radio_cassette    1436 non-null   int64 \n",
      " 36  Tow_Bar           1436 non-null   int64 \n",
      "dtypes: int64(35), object(2)\n",
      "memory usage: 415.2+ KB\n"
     ]
    }
   ],
   "source": [
    "data.info()"
   ]
  },
  {
   "cell_type": "code",
   "execution_count": 5,
   "id": "5a30aa7a",
   "metadata": {},
   "outputs": [
    {
     "data": {
      "text/html": [
       "<div>\n",
       "<style scoped>\n",
       "    .dataframe tbody tr th:only-of-type {\n",
       "        vertical-align: middle;\n",
       "    }\n",
       "\n",
       "    .dataframe tbody tr th {\n",
       "        vertical-align: top;\n",
       "    }\n",
       "\n",
       "    .dataframe thead th {\n",
       "        text-align: right;\n",
       "    }\n",
       "</style>\n",
       "<table border=\"1\" class=\"dataframe\">\n",
       "  <thead>\n",
       "    <tr style=\"text-align: right;\">\n",
       "      <th></th>\n",
       "      <th>Id</th>\n",
       "      <th>Price</th>\n",
       "      <th>Age_08_04</th>\n",
       "      <th>Mfg_Month</th>\n",
       "      <th>Mfg_Year</th>\n",
       "      <th>KM</th>\n",
       "      <th>HP</th>\n",
       "      <th>Met_Color</th>\n",
       "      <th>Automatic</th>\n",
       "      <th>cc</th>\n",
       "      <th>...</th>\n",
       "      <th>Central_Lock</th>\n",
       "      <th>Powered_Windows</th>\n",
       "      <th>Power_Steering</th>\n",
       "      <th>Radio</th>\n",
       "      <th>Mistlamps</th>\n",
       "      <th>Sport_Model</th>\n",
       "      <th>Backseat_Divider</th>\n",
       "      <th>Metallic_Rim</th>\n",
       "      <th>Radio_cassette</th>\n",
       "      <th>Tow_Bar</th>\n",
       "    </tr>\n",
       "  </thead>\n",
       "  <tbody>\n",
       "    <tr>\n",
       "      <th>count</th>\n",
       "      <td>1436.000000</td>\n",
       "      <td>1436.000000</td>\n",
       "      <td>1436.000000</td>\n",
       "      <td>1436.000000</td>\n",
       "      <td>1436.000000</td>\n",
       "      <td>1436.000000</td>\n",
       "      <td>1436.000000</td>\n",
       "      <td>1436.000000</td>\n",
       "      <td>1436.000000</td>\n",
       "      <td>1436.00000</td>\n",
       "      <td>...</td>\n",
       "      <td>1436.000000</td>\n",
       "      <td>1436.000000</td>\n",
       "      <td>1436.000000</td>\n",
       "      <td>1436.000000</td>\n",
       "      <td>1436.000000</td>\n",
       "      <td>1436.000000</td>\n",
       "      <td>1436.000000</td>\n",
       "      <td>1436.000000</td>\n",
       "      <td>1436.000000</td>\n",
       "      <td>1436.000000</td>\n",
       "    </tr>\n",
       "    <tr>\n",
       "      <th>mean</th>\n",
       "      <td>721.555014</td>\n",
       "      <td>10730.824513</td>\n",
       "      <td>55.947075</td>\n",
       "      <td>5.548747</td>\n",
       "      <td>1999.625348</td>\n",
       "      <td>68533.259749</td>\n",
       "      <td>101.502089</td>\n",
       "      <td>0.674791</td>\n",
       "      <td>0.055710</td>\n",
       "      <td>1576.85585</td>\n",
       "      <td>...</td>\n",
       "      <td>0.580084</td>\n",
       "      <td>0.561978</td>\n",
       "      <td>0.977716</td>\n",
       "      <td>0.146240</td>\n",
       "      <td>0.256964</td>\n",
       "      <td>0.300139</td>\n",
       "      <td>0.770195</td>\n",
       "      <td>0.204735</td>\n",
       "      <td>0.145543</td>\n",
       "      <td>0.277855</td>\n",
       "    </tr>\n",
       "    <tr>\n",
       "      <th>std</th>\n",
       "      <td>416.476890</td>\n",
       "      <td>3626.964585</td>\n",
       "      <td>18.599988</td>\n",
       "      <td>3.354085</td>\n",
       "      <td>1.540722</td>\n",
       "      <td>37506.448872</td>\n",
       "      <td>14.981080</td>\n",
       "      <td>0.468616</td>\n",
       "      <td>0.229441</td>\n",
       "      <td>424.38677</td>\n",
       "      <td>...</td>\n",
       "      <td>0.493717</td>\n",
       "      <td>0.496317</td>\n",
       "      <td>0.147657</td>\n",
       "      <td>0.353469</td>\n",
       "      <td>0.437111</td>\n",
       "      <td>0.458478</td>\n",
       "      <td>0.420854</td>\n",
       "      <td>0.403649</td>\n",
       "      <td>0.352770</td>\n",
       "      <td>0.448098</td>\n",
       "    </tr>\n",
       "    <tr>\n",
       "      <th>min</th>\n",
       "      <td>1.000000</td>\n",
       "      <td>4350.000000</td>\n",
       "      <td>1.000000</td>\n",
       "      <td>1.000000</td>\n",
       "      <td>1998.000000</td>\n",
       "      <td>1.000000</td>\n",
       "      <td>69.000000</td>\n",
       "      <td>0.000000</td>\n",
       "      <td>0.000000</td>\n",
       "      <td>1300.00000</td>\n",
       "      <td>...</td>\n",
       "      <td>0.000000</td>\n",
       "      <td>0.000000</td>\n",
       "      <td>0.000000</td>\n",
       "      <td>0.000000</td>\n",
       "      <td>0.000000</td>\n",
       "      <td>0.000000</td>\n",
       "      <td>0.000000</td>\n",
       "      <td>0.000000</td>\n",
       "      <td>0.000000</td>\n",
       "      <td>0.000000</td>\n",
       "    </tr>\n",
       "    <tr>\n",
       "      <th>25%</th>\n",
       "      <td>361.750000</td>\n",
       "      <td>8450.000000</td>\n",
       "      <td>44.000000</td>\n",
       "      <td>3.000000</td>\n",
       "      <td>1998.000000</td>\n",
       "      <td>43000.000000</td>\n",
       "      <td>90.000000</td>\n",
       "      <td>0.000000</td>\n",
       "      <td>0.000000</td>\n",
       "      <td>1400.00000</td>\n",
       "      <td>...</td>\n",
       "      <td>0.000000</td>\n",
       "      <td>0.000000</td>\n",
       "      <td>1.000000</td>\n",
       "      <td>0.000000</td>\n",
       "      <td>0.000000</td>\n",
       "      <td>0.000000</td>\n",
       "      <td>1.000000</td>\n",
       "      <td>0.000000</td>\n",
       "      <td>0.000000</td>\n",
       "      <td>0.000000</td>\n",
       "    </tr>\n",
       "    <tr>\n",
       "      <th>50%</th>\n",
       "      <td>721.500000</td>\n",
       "      <td>9900.000000</td>\n",
       "      <td>61.000000</td>\n",
       "      <td>5.000000</td>\n",
       "      <td>1999.000000</td>\n",
       "      <td>63389.500000</td>\n",
       "      <td>110.000000</td>\n",
       "      <td>1.000000</td>\n",
       "      <td>0.000000</td>\n",
       "      <td>1600.00000</td>\n",
       "      <td>...</td>\n",
       "      <td>1.000000</td>\n",
       "      <td>1.000000</td>\n",
       "      <td>1.000000</td>\n",
       "      <td>0.000000</td>\n",
       "      <td>0.000000</td>\n",
       "      <td>0.000000</td>\n",
       "      <td>1.000000</td>\n",
       "      <td>0.000000</td>\n",
       "      <td>0.000000</td>\n",
       "      <td>0.000000</td>\n",
       "    </tr>\n",
       "    <tr>\n",
       "      <th>75%</th>\n",
       "      <td>1081.250000</td>\n",
       "      <td>11950.000000</td>\n",
       "      <td>70.000000</td>\n",
       "      <td>8.000000</td>\n",
       "      <td>2001.000000</td>\n",
       "      <td>87020.750000</td>\n",
       "      <td>110.000000</td>\n",
       "      <td>1.000000</td>\n",
       "      <td>0.000000</td>\n",
       "      <td>1600.00000</td>\n",
       "      <td>...</td>\n",
       "      <td>1.000000</td>\n",
       "      <td>1.000000</td>\n",
       "      <td>1.000000</td>\n",
       "      <td>0.000000</td>\n",
       "      <td>1.000000</td>\n",
       "      <td>1.000000</td>\n",
       "      <td>1.000000</td>\n",
       "      <td>0.000000</td>\n",
       "      <td>0.000000</td>\n",
       "      <td>1.000000</td>\n",
       "    </tr>\n",
       "    <tr>\n",
       "      <th>max</th>\n",
       "      <td>1442.000000</td>\n",
       "      <td>32500.000000</td>\n",
       "      <td>80.000000</td>\n",
       "      <td>12.000000</td>\n",
       "      <td>2004.000000</td>\n",
       "      <td>243000.000000</td>\n",
       "      <td>192.000000</td>\n",
       "      <td>1.000000</td>\n",
       "      <td>1.000000</td>\n",
       "      <td>16000.00000</td>\n",
       "      <td>...</td>\n",
       "      <td>1.000000</td>\n",
       "      <td>1.000000</td>\n",
       "      <td>1.000000</td>\n",
       "      <td>1.000000</td>\n",
       "      <td>1.000000</td>\n",
       "      <td>1.000000</td>\n",
       "      <td>1.000000</td>\n",
       "      <td>1.000000</td>\n",
       "      <td>1.000000</td>\n",
       "      <td>1.000000</td>\n",
       "    </tr>\n",
       "  </tbody>\n",
       "</table>\n",
       "<p>8 rows × 35 columns</p>\n",
       "</div>"
      ],
      "text/plain": [
       "                Id         Price    Age_08_04    Mfg_Month     Mfg_Year  \\\n",
       "count  1436.000000   1436.000000  1436.000000  1436.000000  1436.000000   \n",
       "mean    721.555014  10730.824513    55.947075     5.548747  1999.625348   \n",
       "std     416.476890   3626.964585    18.599988     3.354085     1.540722   \n",
       "min       1.000000   4350.000000     1.000000     1.000000  1998.000000   \n",
       "25%     361.750000   8450.000000    44.000000     3.000000  1998.000000   \n",
       "50%     721.500000   9900.000000    61.000000     5.000000  1999.000000   \n",
       "75%    1081.250000  11950.000000    70.000000     8.000000  2001.000000   \n",
       "max    1442.000000  32500.000000    80.000000    12.000000  2004.000000   \n",
       "\n",
       "                  KM           HP    Met_Color    Automatic           cc  ...  \\\n",
       "count    1436.000000  1436.000000  1436.000000  1436.000000   1436.00000  ...   \n",
       "mean    68533.259749   101.502089     0.674791     0.055710   1576.85585  ...   \n",
       "std     37506.448872    14.981080     0.468616     0.229441    424.38677  ...   \n",
       "min         1.000000    69.000000     0.000000     0.000000   1300.00000  ...   \n",
       "25%     43000.000000    90.000000     0.000000     0.000000   1400.00000  ...   \n",
       "50%     63389.500000   110.000000     1.000000     0.000000   1600.00000  ...   \n",
       "75%     87020.750000   110.000000     1.000000     0.000000   1600.00000  ...   \n",
       "max    243000.000000   192.000000     1.000000     1.000000  16000.00000  ...   \n",
       "\n",
       "       Central_Lock  Powered_Windows  Power_Steering        Radio  \\\n",
       "count   1436.000000      1436.000000     1436.000000  1436.000000   \n",
       "mean       0.580084         0.561978        0.977716     0.146240   \n",
       "std        0.493717         0.496317        0.147657     0.353469   \n",
       "min        0.000000         0.000000        0.000000     0.000000   \n",
       "25%        0.000000         0.000000        1.000000     0.000000   \n",
       "50%        1.000000         1.000000        1.000000     0.000000   \n",
       "75%        1.000000         1.000000        1.000000     0.000000   \n",
       "max        1.000000         1.000000        1.000000     1.000000   \n",
       "\n",
       "         Mistlamps  Sport_Model  Backseat_Divider  Metallic_Rim  \\\n",
       "count  1436.000000  1436.000000       1436.000000   1436.000000   \n",
       "mean      0.256964     0.300139          0.770195      0.204735   \n",
       "std       0.437111     0.458478          0.420854      0.403649   \n",
       "min       0.000000     0.000000          0.000000      0.000000   \n",
       "25%       0.000000     0.000000          1.000000      0.000000   \n",
       "50%       0.000000     0.000000          1.000000      0.000000   \n",
       "75%       1.000000     1.000000          1.000000      0.000000   \n",
       "max       1.000000     1.000000          1.000000      1.000000   \n",
       "\n",
       "       Radio_cassette      Tow_Bar  \n",
       "count     1436.000000  1436.000000  \n",
       "mean         0.145543     0.277855  \n",
       "std          0.352770     0.448098  \n",
       "min          0.000000     0.000000  \n",
       "25%          0.000000     0.000000  \n",
       "50%          0.000000     0.000000  \n",
       "75%          0.000000     1.000000  \n",
       "max          1.000000     1.000000  \n",
       "\n",
       "[8 rows x 35 columns]"
      ]
     },
     "execution_count": 5,
     "metadata": {},
     "output_type": "execute_result"
    }
   ],
   "source": [
    "data.describe()"
   ]
  },
  {
   "cell_type": "markdown",
   "id": "e98d2c19",
   "metadata": {},
   "source": [
    "# Check types and count of data columns"
   ]
  },
  {
   "cell_type": "code",
   "execution_count": 6,
   "id": "809612b8",
   "metadata": {},
   "outputs": [
    {
     "data": {
      "text/plain": [
       "int64     35\n",
       "object     2\n",
       "dtype: int64"
      ]
     },
     "execution_count": 6,
     "metadata": {},
     "output_type": "execute_result"
    }
   ],
   "source": [
    "data.dtypes.value_counts()"
   ]
  },
  {
   "cell_type": "markdown",
   "id": "2af43cb0",
   "metadata": {},
   "source": [
    "# Check Columns Name"
   ]
  },
  {
   "cell_type": "code",
   "execution_count": 7,
   "id": "9d0aff3c",
   "metadata": {},
   "outputs": [
    {
     "data": {
      "text/plain": [
       "Index(['Id', 'Model', 'Price', 'Age_08_04', 'Mfg_Month', 'Mfg_Year', 'KM',\n",
       "       'Fuel_Type', 'HP', 'Met_Color', 'Automatic', 'cc', 'Doors', 'Cylinders',\n",
       "       'Gears', 'Quarterly_Tax', 'Weight', 'Mfr_Guarantee', 'BOVAG_Guarantee',\n",
       "       'Guarantee_Period', 'ABS', 'Airbag_1', 'Airbag_2', 'Airco',\n",
       "       'Automatic_airco', 'Boardcomputer', 'CD_Player', 'Central_Lock',\n",
       "       'Powered_Windows', 'Power_Steering', 'Radio', 'Mistlamps',\n",
       "       'Sport_Model', 'Backseat_Divider', 'Metallic_Rim', 'Radio_cassette',\n",
       "       'Tow_Bar'],\n",
       "      dtype='object')"
      ]
     },
     "execution_count": 7,
     "metadata": {},
     "output_type": "execute_result"
    }
   ],
   "source": [
    "data.columns"
   ]
  },
  {
   "cell_type": "markdown",
   "id": "21cb0b94",
   "metadata": {},
   "source": [
    "# check memory usage of each columns"
   ]
  },
  {
   "cell_type": "code",
   "execution_count": 8,
   "id": "8a4a2000",
   "metadata": {},
   "outputs": [
    {
     "data": {
      "text/plain": [
       "Index                 132\n",
       "Id                  11488\n",
       "Model               11488\n",
       "Price               11488\n",
       "Age_08_04           11488\n",
       "Mfg_Month           11488\n",
       "Mfg_Year            11488\n",
       "KM                  11488\n",
       "Fuel_Type           11488\n",
       "HP                  11488\n",
       "Met_Color           11488\n",
       "Automatic           11488\n",
       "cc                  11488\n",
       "Doors               11488\n",
       "Cylinders           11488\n",
       "Gears               11488\n",
       "Quarterly_Tax       11488\n",
       "Weight              11488\n",
       "Mfr_Guarantee       11488\n",
       "BOVAG_Guarantee     11488\n",
       "Guarantee_Period    11488\n",
       "ABS                 11488\n",
       "Airbag_1            11488\n",
       "Airbag_2            11488\n",
       "Airco               11488\n",
       "Automatic_airco     11488\n",
       "Boardcomputer       11488\n",
       "CD_Player           11488\n",
       "Central_Lock        11488\n",
       "Powered_Windows     11488\n",
       "Power_Steering      11488\n",
       "Radio               11488\n",
       "Mistlamps           11488\n",
       "Sport_Model         11488\n",
       "Backseat_Divider    11488\n",
       "Metallic_Rim        11488\n",
       "Radio_cassette      11488\n",
       "Tow_Bar             11488\n",
       "dtype: int64"
      ]
     },
     "execution_count": 8,
     "metadata": {},
     "output_type": "execute_result"
    }
   ],
   "source": [
    "data.memory_usage()"
   ]
  },
  {
   "cell_type": "markdown",
   "id": "b8b835a0",
   "metadata": {},
   "source": [
    "# Representation of data"
   ]
  },
  {
   "cell_type": "markdown",
   "id": "1c3b3bc3",
   "metadata": {},
   "source": [
    "## Histogram (for contineous/ Numerical variable)"
   ]
  },
  {
   "cell_type": "code",
   "execution_count": 9,
   "id": "21e9535d",
   "metadata": {},
   "outputs": [
    {
     "data": {
      "text/plain": [
       "Text(0, 0.5, 'Frequency')"
      ]
     },
     "execution_count": 9,
     "metadata": {},
     "output_type": "execute_result"
    },
    {
     "data": {
      "image/png": "[encoded data removed]",
      "text/plain": [
       "<Figure size 640x480 with 1 Axes>"
      ]
     },
     "metadata": {},
     "output_type": "display_data"
    }
   ],
   "source": [
    "plt.hist(data['KM'],edgecolor= 'black', bins=[0, 50000, 100000, 150000, 200000, 250000])\n",
    "plt.title(\"Representation of kilometer driven\")\n",
    "plt.xlabel(\"Kilo_Meter\")\n",
    "plt.ylabel(\"Frequency\")"
   ]
  },
  {
   "cell_type": "code",
   "execution_count": 10,
   "id": "c768bddf",
   "metadata": {},
   "outputs": [
    {
     "data": {
      "text/plain": [
       "Text(0, 0.5, 'Frequency')"
      ]
     },
     "execution_count": 10,
     "metadata": {},
     "output_type": "execute_result"
    },
    {
     "data": {
      "image/png": "[encoded data removed]",
      "text/plain": [
       "<Figure size 640x480 with 1 Axes>"
      ]
     },
     "metadata": {},
     "output_type": "display_data"
    }
   ],
   "source": [
    "plt.hist(data['Price'],edgecolor= 'black',bins=[5000, 10000, 15000, 20000, 25000, 30000])\n",
    "plt.title(\"Representation of Car Prices\")\n",
    "plt.xlabel(\"Prices\")\n",
    "plt.ylabel(\"Frequency\")"
   ]
  },
  {
   "cell_type": "code",
   "execution_count": 11,
   "id": "a3a5b8f5",
   "metadata": {},
   "outputs": [
    {
     "data": {
      "text/plain": [
       "Text(0, 0.5, 'Frequency')"
      ]
     },
     "execution_count": 11,
     "metadata": {},
     "output_type": "execute_result"
    },
    {
     "data": {
      "image/png": "[encoded data removed]",
      "text/plain": [
       "<Figure size 640x480 with 1 Axes>"
      ]
     },
     "metadata": {},
     "output_type": "display_data"
    }
   ],
   "source": [
    "plt.hist(data['HP'],edgecolor= 'black',bins=[80, 100, 120, 140, 160, 180])\n",
    "plt.title(\"Representation of HorsePower\")\n",
    "plt.xlabel(\"HP\")\n",
    "plt.ylabel(\"Frequency\")"
   ]
  },
  {
   "cell_type": "code",
   "execution_count": 12,
   "id": "2089d3a7",
   "metadata": {},
   "outputs": [
    {
     "data": {
      "text/plain": [
       "Text(0, 0.5, 'Frequency')"
      ]
     },
     "execution_count": 12,
     "metadata": {},
     "output_type": "execute_result"
    },
    {
     "data": {
      "image/png": "[encoded data removed]",
      "text/plain": [
       "<Figure size 640x480 with 1 Axes>"
      ]
     },
     "metadata": {},
     "output_type": "display_data"
    }
   ],
   "source": [
    "plt.hist(data['Mfg_Month'],edgecolor= 'black', bins=[2,4,6,8,10,12,14])\n",
    "plt.title(\"Representation of car Mfg_Months\")\n",
    "plt.xlabel(\"Mfg_Month\")\n",
    "plt.ylabel(\"Frequency\")"
   ]
  },
  {
   "cell_type": "code",
   "execution_count": 13,
   "id": "6bd2b1d3",
   "metadata": {},
   "outputs": [
    {
     "data": {
      "text/plain": [
       "Text(0, 0.5, 'Frequency')"
      ]
     },
     "execution_count": 13,
     "metadata": {},
     "output_type": "execute_result"
    },
    {
     "data": {
      "image/png": "[encoded data removed]",
      "text/plain": [
       "<Figure size 640x480 with 1 Axes>"
      ]
     },
     "metadata": {},
     "output_type": "display_data"
    }
   ],
   "source": [
    "plt.hist(data['Age_08_04'],edgecolor= 'black', bins=[0,10,20,30,40,50,60,70,80,90])\n",
    "plt.title(\"Representation of car Drivers Age\")\n",
    "plt.xlabel(\"Age\")\n",
    "plt.ylabel(\"Frequency\")"
   ]
  },
  {
   "cell_type": "markdown",
   "id": "d08d6ff8",
   "metadata": {},
   "source": [
    "## Bar Plot"
   ]
  },
  {
   "cell_type": "code",
   "execution_count": 14,
   "id": "ee111f0d",
   "metadata": {},
   "outputs": [],
   "source": [
    "count= data['Fuel_Type']"
   ]
  },
  {
   "cell_type": "code",
   "execution_count": 15,
   "id": "9819ef0b",
   "metadata": {},
   "outputs": [
    {
     "data": {
      "text/plain": [
       "0       Diesel\n",
       "1       Diesel\n",
       "2       Diesel\n",
       "3       Diesel\n",
       "4       Diesel\n",
       "         ...  \n",
       "1431    Petrol\n",
       "1432    Petrol\n",
       "1433    Petrol\n",
       "1434    Petrol\n",
       "1435    Petrol\n",
       "Name: Fuel_Type, Length: 1436, dtype: object"
      ]
     },
     "execution_count": 15,
     "metadata": {},
     "output_type": "execute_result"
    }
   ],
   "source": [
    "count"
   ]
  },
  {
   "cell_type": "code",
   "execution_count": 16,
   "id": "d6ff18e0",
   "metadata": {},
   "outputs": [],
   "source": [
    "count=data['Fuel_Type'].value_counts()"
   ]
  },
  {
   "cell_type": "code",
   "execution_count": 17,
   "id": "9894db62",
   "metadata": {},
   "outputs": [
    {
     "data": {
      "text/plain": [
       "Petrol    1264\n",
       "Diesel     155\n",
       "CNG         17\n",
       "Name: Fuel_Type, dtype: int64"
      ]
     },
     "execution_count": 17,
     "metadata": {},
     "output_type": "execute_result"
    }
   ],
   "source": [
    "count"
   ]
  },
  {
   "cell_type": "code",
   "execution_count": 18,
   "id": "74437829",
   "metadata": {},
   "outputs": [],
   "source": [
    "fueltype= np.unique(data['Fuel_Type'])"
   ]
  },
  {
   "cell_type": "code",
   "execution_count": 19,
   "id": "08200595",
   "metadata": {},
   "outputs": [
    {
     "name": "stdout",
     "output_type": "stream",
     "text": [
      "['CNG' 'Diesel' 'Petrol']\n"
     ]
    }
   ],
   "source": [
    "print(fueltype)"
   ]
  },
  {
   "cell_type": "code",
   "execution_count": 20,
   "id": "ae502618",
   "metadata": {},
   "outputs": [],
   "source": [
    "index=np.arange(len(fueltype))"
   ]
  },
  {
   "cell_type": "code",
   "execution_count": 21,
   "id": "8970c95d",
   "metadata": {},
   "outputs": [
    {
     "name": "stdout",
     "output_type": "stream",
     "text": [
      "[0 1 2]\n"
     ]
    }
   ],
   "source": [
    "print(index)"
   ]
  },
  {
   "cell_type": "code",
   "execution_count": 22,
   "id": "d6756cd3",
   "metadata": {},
   "outputs": [
    {
     "data": {
      "text/plain": [
       "([<matplotlib.axis.XTick at 0x13d58fb9010>,\n",
       "  <matplotlib.axis.XTick at 0x13d58fdec50>,\n",
       "  <matplotlib.axis.XTick at 0x13d58e07d50>],\n",
       " [Text(0, 0, 'CNG'), Text(1, 0, 'Diesel'), Text(2, 0, 'Petrol')])"
      ]
     },
     "execution_count": 22,
     "metadata": {},
     "output_type": "execute_result"
    },
    {
     "data": {
      "image/png": "[encoded data removed]",
      "text/plain": [
       "<Figure size 640x480 with 1 Axes>"
      ]
     },
     "metadata": {},
     "output_type": "display_data"
    }
   ],
   "source": [
    "plt.bar(index,count, color = {'orange', 'green', 'pink'})\n",
    "plt.title(\"Representation of fuel type\")\n",
    "plt.xlabel(\"fuel type\")\n",
    "plt.ylabel(\"frequency\")\n",
    "plt.xticks(index, fueltype)"
   ]
  },
  {
   "cell_type": "code",
   "execution_count": 23,
   "id": "7abb7704",
   "metadata": {},
   "outputs": [],
   "source": [
    "count2=data['Mfg_Year'].value_counts()"
   ]
  },
  {
   "cell_type": "code",
   "execution_count": 24,
   "id": "f4c07310",
   "metadata": {},
   "outputs": [
    {
     "name": "stdout",
     "output_type": "stream",
     "text": [
      "1999    441\n",
      "1998    392\n",
      "2000    225\n",
      "2001    192\n",
      "2002     87\n",
      "2003     75\n",
      "2004     24\n",
      "Name: Mfg_Year, dtype: int64\n"
     ]
    }
   ],
   "source": [
    "print(count2)"
   ]
  },
  {
   "cell_type": "code",
   "execution_count": 25,
   "id": "61ba018d",
   "metadata": {},
   "outputs": [],
   "source": [
    "mfg_year= np.unique(data['Mfg_Year'])"
   ]
  },
  {
   "cell_type": "code",
   "execution_count": 26,
   "id": "4dad66b9",
   "metadata": {},
   "outputs": [
    {
     "name": "stdout",
     "output_type": "stream",
     "text": [
      "[1998 1999 2000 2001 2002 2003 2004]\n"
     ]
    }
   ],
   "source": [
    "print(mfg_year)"
   ]
  },
  {
   "cell_type": "code",
   "execution_count": 27,
   "id": "b823f3c5",
   "metadata": {},
   "outputs": [],
   "source": [
    "index2=np.arange(len(mfg_year))"
   ]
  },
  {
   "cell_type": "code",
   "execution_count": 28,
   "id": "f4befa86",
   "metadata": {},
   "outputs": [
    {
     "name": "stdout",
     "output_type": "stream",
     "text": [
      "[0 1 2 3 4 5 6]\n"
     ]
    }
   ],
   "source": [
    "print(index2)"
   ]
  },
  {
   "cell_type": "code",
   "execution_count": 29,
   "id": "5429dc5f",
   "metadata": {},
   "outputs": [
    {
     "data": {
      "image/png": "[encoded data removed]",
      "text/plain": [
       "<Figure size 640x480 with 1 Axes>"
      ]
     },
     "metadata": {},
     "output_type": "display_data"
    }
   ],
   "source": [
    "plt.bar(index2,count2, color = {'orange', 'green', 'pink','yellow', 'blue','purple','brown'})\n",
    "plt.title(\"Representation of mfg_years of Car\")\n",
    "plt.xlabel(\"mgf_year\")\n",
    "plt.ylabel(\"frequency\")\n",
    "plt.xticks(index2, mfg_year)\n",
    "plt.show()"
   ]
  },
  {
   "cell_type": "code",
   "execution_count": 30,
   "id": "7616a695",
   "metadata": {},
   "outputs": [
    {
     "data": {
      "text/plain": [
       "Text(0, 0.5, 'Prices of the cars')"
      ]
     },
     "execution_count": 30,
     "metadata": {},
     "output_type": "execute_result"
    },
    {
     "data": {
      "image/png": "[encoded data removed]",
      "text/plain": [
       "<Figure size 640x480 with 1 Axes>"
      ]
     },
     "metadata": {},
     "output_type": "display_data"
    }
   ],
   "source": [
    "x=data['Mfg_Year']\n",
    "y=data['Price']\n",
    "plt.title('Reprsentaion the prices of the cars with respect to mfg_year ')\n",
    "plt.bar(x,y)\n",
    "plt.xlabel('Mfg_Year')\n",
    "plt.ylabel('Prices of the cars')"
   ]
  },
  {
   "cell_type": "code",
   "execution_count": 31,
   "id": "c98a14cc",
   "metadata": {},
   "outputs": [
    {
     "data": {
      "text/plain": [
       "Text(0, 0.5, 'Prices of the cars')"
      ]
     },
     "execution_count": 31,
     "metadata": {},
     "output_type": "execute_result"
    },
    {
     "data": {
      "image/png": "[encoded data removed]",
      "text/plain": [
       "<Figure size 640x480 with 1 Axes>"
      ]
     },
     "metadata": {},
     "output_type": "display_data"
    }
   ],
   "source": [
    "x=data['Mfg_Month']\n",
    "y=data['Price']\n",
    "plt.title('Reprsentaion the prices of the cars with respect to mfg_month ')\n",
    "plt.bar(x,y)\n",
    "plt.xlabel('Mfg_month')\n",
    "plt.ylabel('Prices of the cars')"
   ]
  }
 ],
 "metadata": {
  "kernelspec": {
   "display_name": "Python 3 (ipykernel)",
   "language": "python",
   "name": "python3"
  },
  "language_info": {
   "codemirror_mode": {
    "name": "ipython",
    "version": 3
   },
   "file_extension": ".py",
   "mimetype": "text/x-python",
   "name": "python",
   "nbconvert_exporter": "python",
   "pygments_lexer": "ipython3",
   "version": "3.11.4"
  }
 },
 "nbformat": 4,
 "nbformat_minor": 5
}
